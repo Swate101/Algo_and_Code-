{
 "cells": [
  {
   "cell_type": "code",
   "execution_count": 12,
   "id": "a35f8468-4ae4-4068-ae0d-37f9c98b7d89",
   "metadata": {},
   "outputs": [
    {
     "name": "stdout",
     "output_type": "stream",
     "text": [
      "['Audre Lorde', 'Gabriela Mistral', 'Jean Toomer', 'An Qi', 'Walt Whitman', 'Shel Silverstein', 'Carmen Boullosa', 'Kamala Suraiyya', 'Langston Hughes', 'Adrienne Rich', 'Nikki Giovanni']\n",
      "['Lorde', 'Mistral', 'Toomer', 'Qi', 'Whitman', 'Silverstein', 'Boullosa', 'Suraiyya', 'Hughes', 'Rich', 'Giovanni']\n"
     ]
    }
   ],
   "source": [
    "authors = \"Audre Lorde,Gabriela Mistral,Jean Toomer,An Qi,Walt Whitman,Shel Silverstein,Carmen Boullosa,Kamala Suraiyya,Langston Hughes,Adrienne Rich,Nikki Giovanni\"\n",
    "\n",
    "author_names = authors.split(',')\n",
    "\n",
    "print(author_names)\n",
    "\n",
    "author_last_names = []\n",
    "for name in author_names:\n",
    "    author_last_names.append(name.split()[-1]) # takes the last name in name and \n",
    "  \n",
    "print(author_last_names)"
   ]
  },
  {
   "cell_type": "code",
   "execution_count": 9,
   "id": "9e09e6b7-3001-46d3-bddf-468a991cf98a",
   "metadata": {},
   "outputs": [
    {
     "name": "stdout",
     "output_type": "stream",
     "text": [
      "['apple', 'banana', 'cherry', ['Ford', 'BMW', 'Volvo']]\n"
     ]
    }
   ],
   "source": [
    "a = [\"apple\", \"banana\", \"cherry\"]\n",
    "b = [\"Ford\", \"BMW\", \"Volvo\"]\n",
    "a.append(b)\n",
    "print(a)"
   ]
  },
  {
   "cell_type": "markdown",
   "id": "dd6237a8-2eb2-4ba1-adf6-5720516961fc",
   "metadata": {},
   "source": [
    "I ❤️ Pandas. It’s seamless and potent in helping you perform data science quickly. \n",
    "\n",
    "Here are 15 functions I use day to day - whether building a data pipeline, performing an analysis or building a model. 👇\n",
    "\n",
    "1. df.describe() # Generates stats on columns \n",
    "2. df.apply()    # Applies functions on columns\n",
    "3. df.groupby() # Applies aggregation of a column \n",
    "4. df.rolling()    # Moving window aggregation\n",
    "5. df.sort_values() # Sorts tables\n",
    "6. df.plot() # Generate cool data viz\n",
    "7. df.corr() # Correlation matrix\n",
    "8. df.sample() # Sample data\n",
    "9. pd.to_datetime() # Convert an object to a datetime column\n",
    "10. df.rename() # Renames columns\n",
    "11. df.filter() # Filter on columns\n",
    "12. df.drop() # Drops rows based on a condition\n",
    "13. df.fillna() # Imputes missing values\n",
    "14. df.rank() # Generates ranks on a column\n",
    "15. df.head() # Peek at top rows\n",
    "16. df.dtypes # Check the datatype\n",
    "17. df.astype # Change the datatype\n",
    "18. df.iterrows() # Iterate through rows\n",
    "19. df.iloc() / df.loc() # Quickly select rows and columns\n",
    "\n",
    "\n",
    "\n"
   ]
  },
  {
   "cell_type": "markdown",
   "id": "b20c276f-73ed-4dcb-86e0-c1886032fae3",
   "metadata": {},
   "source": [
    " have some exciting news to share! I am looking for a new position as a data scientist or engineer. And would like to ask for any help or feedback from my community. This has been a long process, and I am still constantly learning and creating in the space of data science. I am located in Houston, Tx. check out my profile and linked in. I am very excited to start this new journey!” #datascience #community #opentoconnect #opentowork "
   ]
  },
  {
   "cell_type": "code",
   "execution_count": 13,
   "id": "ce62c150-4cae-4b87-b9be-5235356d37f7",
   "metadata": {},
   "outputs": [
    {
     "name": "stdout",
     "output_type": "stream",
     "text": [
      "Always\n",
      "in the middle of our bloodiest battles\n",
      "you lay down your arms\n",
      "like flowering mines\n",
      "\n",
      "to conquer me home.\n"
     ]
    }
   ],
   "source": [
    "love_maybe_lines = ['Always    ', '     in the middle of our bloodiest battles  ', 'you lay down your arms', '           like flowering mines    ','\\n' ,'   to conquer me home.    ']\n",
    "\n",
    "\n",
    "love_maybe_lines_stripped = []\n",
    "\n",
    "for line in love_maybe_lines:\n",
    "  love_maybe_lines_stripped.append(line.strip())\n",
    "  \n",
    "love_maybe_full = '\\n'.join(love_maybe_lines_stripped)\n",
    "\n",
    "print(love_maybe_full)"
   ]
  },
  {
   "cell_type": "code",
   "execution_count": 18,
   "id": "2e67ec52-3d3f-4044-b47a-ecda60ee53cc",
   "metadata": {},
   "outputs": [
    {
     "data": {
      "text/plain": [
       "'The poem \"dick\" is written by head.'"
      ]
     },
     "execution_count": 18,
     "metadata": {},
     "output_type": "execute_result"
    }
   ],
   "source": [
    "def poem_title_card(title, poet):\n",
    "  poem_desc = \"The poem \\\"{}\\\" is written by {}.\".format(title, poet)\n",
    "  return poem_desc\n",
    "\n",
    "\n",
    "\n",
    "poem_title_card(\"dick\",\"head\")"
   ]
  },
  {
   "cell_type": "code",
   "execution_count": 19,
   "id": "25c6599e-5f67-45c7-bb74-ce8d0b7690a1",
   "metadata": {},
   "outputs": [
    {
     "name": "stdout",
     "output_type": "stream",
     "text": [
      "The poem My Beard by Shel Silverstein was originally published in Where the Sidewalk Ends in 1974.\n"
     ]
    }
   ],
   "source": [
    "def poem_description(publishing_date, author, title, original_work):\n",
    "  poem_desc = \"The poem {title} by {author} was originally published in {original_work} in {publishing_date}.\".format(publishing_date = publishing_date, author = author, title = title, original_work = original_work)\n",
    "  return poem_desc\n",
    "\n",
    "author = \"Shel Silverstein\"\n",
    "title = \"My Beard\"\n",
    "original_work = \"Where the Sidewalk Ends\"\n",
    "publishing_date = \"1974\"\n",
    "\n",
    "my_beard_description = poem_description(publishing_date, author, title, original_work)\n",
    "\n",
    "print(my_beard_description)"
   ]
  },
  {
   "cell_type": "code",
   "execution_count": 20,
   "id": "ebd48f4b-d2b8-470c-827b-e434677a8568",
   "metadata": {},
   "outputs": [
    {
     "name": "stdout",
     "output_type": "stream",
     "text": [
      "The poem Afterimages was published by Audre Lorde in 1997\n",
      "The poem The Shadow was published by William Carlos Williams in 1915\n",
      "The poem Ecstasy was published by Gabriela Mistral in 1925\n",
      "The poem Georgia Dusk was published by Jean Toomer in 1923\n",
      "The poem Parting Before Daybreak was published by An Qi in 2014\n",
      "The poem The Untold Want was published by Walt Whitman in 1871\n",
      "The poem Mr. Grumpledump's Song was published by Shel Silverstein in 2004\n",
      "The poem Angel Sound Mexico City was published by Carmen Boullosa in 2013\n",
      "The poem In Love was published by Kamala Suraiyya in 1965\n",
      "The poem Dream Variations was published by Langston Hughes in 1994\n",
      "The poem Dreamwood was published by Adrienne Rich in 1987\n"
     ]
    }
   ],
   "source": [
    "highlighted_poems = \"Afterimages:Audre Lorde:1997,  The Shadow:William Carlos Williams:1915, Ecstasy:Gabriela Mistral:1925,   Georgia Dusk:Jean Toomer:1923,   Parting Before Daybreak:An Qi:2014, The Untold Want:Walt Whitman:1871, Mr. Grumpledump's Song:Shel Silverstein:2004, Angel Sound Mexico City:Carmen Boullosa:2013, In Love:Kamala Suraiyya:1965, Dream Variations:Langston Hughes:1994, Dreamwood:Adrienne Rich:1987\"\n",
    "\n",
    "# print(highlighted_poems)\n",
    "\n",
    "highlighted_poems_list = highlighted_poems.split(',')\n",
    "\n",
    "# print(highlighted_poems_list)\n",
    "\n",
    "highlighted_poems_stripped = []\n",
    "\n",
    "for poem in highlighted_poems_list:\n",
    "  highlighted_poems_stripped.append(poem.strip())\n",
    "  \n",
    "# print(highlighted_poems_stripped)\n",
    "\n",
    "highlighted_poems_details = []\n",
    "\n",
    "for poem in highlighted_poems_stripped:\n",
    "  highlighted_poems_details.append(poem.split(':'))\n",
    "  \n",
    "titles = []\n",
    "poets = []\n",
    "dates = []\n",
    "\n",
    "for poem in highlighted_poems_details:\n",
    "  titles.append(poem[0])\n",
    "  poets.append(poem[1])\n",
    "  dates.append(poem[2])\n",
    "  \n",
    "for i in range(0,len(highlighted_poems_details)):\n",
    "    print('The poem {} was published by {} in {}'.format(titles[i], poets[i], dates[i]))\n",
    "\n",
    "    "
   ]
  },
  {
   "cell_type": "code",
   "execution_count": 21,
   "id": "68e4a053-d230-40ed-ad4e-5e8453c9763c",
   "metadata": {},
   "outputs": [
    {
     "name": "stdout",
     "output_type": "stream",
     "text": [
      "28\n",
      "24 threads of red were sold today\n",
      "34 threads of yellow were sold today\n",
      "30 threads of green were sold today\n",
      "28 threads of white were sold today\n",
      "26 threads of black were sold today\n",
      "22 threads of blue were sold today\n",
      "17 threads of purple were sold today\n"
     ]
    }
   ],
   "source": [
    "daily_sales = \\\n",
    "\"\"\"Edith Mcbride   ;,;$1.21   ;,;   white ;,; \n",
    "09/15/17   ,Herbert Tran   ;,;   $7.29;,; \n",
    "white&blue;,;   09/15/17 ,Paul Clarke ;,;$12.52 \n",
    ";,;   white&blue ;,; 09/15/17 ,Lucille Caldwell   \n",
    ";,;   $5.13   ;,; white   ;,; 09/15/17,\n",
    "Eduardo George   ;,;$20.39;,; white&yellow \n",
    ";,;09/15/17   ,   Danny Mclaughlin;,;$30.82;,;   \n",
    "purple ;,;09/15/17 ,Stacy Vargas;,; $1.85   ;,; \n",
    "purple&yellow ;,;09/15/17,   Shaun Brock;,; \n",
    "$17.98;,;purple&yellow ;,; 09/15/17 , \n",
    "Erick Harper ;,;$17.41;,; blue ;,; 09/15/17, \n",
    "Michelle Howell ;,;$28.59;,; blue;,;   09/15/17   , \n",
    "Carroll Boyd;,; $14.51;,;   purple&blue   ;,;   \n",
    "09/15/17   , Teresa Carter   ;,; $19.64 ;,; \n",
    "white;,;09/15/17   ,   Jacob Kennedy ;,; $11.40   \n",
    ";,; white&red   ;,; 09/15/17, Craig Chambers;,; \n",
    "$8.79 ;,; white&blue&red   ;,;09/15/17   , Peggy Bell;,; $8.65 ;,;blue   ;,; 09/15/17,   Kenneth Cunningham ;,;   $10.53;,;   green&blue   ;,; \n",
    "09/15/17   ,   Marvin Morgan;,;   $16.49;,; \n",
    "green&blue&red   ;,;   09/15/17 ,Marjorie Russell \n",
    ";,; $6.55 ;,;   green&blue&red;,;   09/15/17 ,\n",
    "Israel Cummings;,;   $11.86   ;,;black;,;  \n",
    "09/15/17,   June Doyle   ;,;   $22.29 ;,;  \n",
    "black&yellow ;,;09/15/17 , Jaime Buchanan   ;,;   \n",
    "$8.35;,;   white&black&yellow   ;,;   09/15/17,   \n",
    "Rhonda Farmer;,;$2.91 ;,;   white&black&yellow   \n",
    ";,;09/15/17, Darren Mckenzie ;,;$22.94;,;green \n",
    ";,;09/15/17,Rufus Malone;,;$4.70   ;,; green&yellow \n",
    ";,; 09/15/17   ,Hubert Miles;,;   $3.59   \n",
    ";,;green&yellow&blue;,;   09/15/17   , Joseph Bridges  ;,;$5.66   ;,; green&yellow&purple&blue \n",
    ";,;   09/15/17 , Sergio Murphy   ;,;$17.51   ;,;   \n",
    "black   ;,;   09/15/17 , Audrey Ferguson ;,; \n",
    "$5.54;,;black&blue   ;,;09/15/17 ,Edna Williams ;,; \n",
    "$17.13;,; black&blue;,;   09/15/17,   Randy Fleming;,;   $21.13 ;,;black ;,;09/15/17 ,Elisa Hart;,; $0.35   ;,; black&purple;,;   09/15/17   ,\n",
    "Ernesto Hunt ;,; $13.91   ;,;   black&purple ;,;   \n",
    "09/15/17,   Shannon Chavez   ;,;$19.26   ;,; \n",
    "yellow;,; 09/15/17   , Sammy Cain;,; $5.45;,;   \n",
    "yellow&red ;,;09/15/17 ,   Steven Reeves ;,;$5.50   \n",
    ";,;   yellow;,;   09/15/17, Ruben Jones   ;,; \n",
    "$14.56 ;,;   yellow&blue;,;09/15/17 , Essie Hansen;,;   $7.33   ;,;   yellow&blue&red\n",
    ";,; 09/15/17   ,   Rene Hardy   ;,; $20.22   ;,; \n",
    "black ;,;   09/15/17 ,   Lucy Snyder   ;,; $8.67   \n",
    ";,;black&red  ;,; 09/15/17 ,Dallas Obrien ;,;   \n",
    "$8.31;,;   black&red ;,;   09/15/17,   Stacey Payne \n",
    ";,;   $15.70   ;,;   white&black&red ;,;09/15/17   \n",
    ",   Tanya Cox   ;,;   $6.74   ;,;yellow   ;,; \n",
    "09/15/17 , Melody Moran ;,;   $30.84   \n",
    ";,;yellow&black;,;   09/15/17 , Louise Becker   ;,; \n",
    "$12.31 ;,; green&yellow&black;,;   09/15/17 ,\n",
    "Ryan Webster;,;$2.94 ;,; yellow ;,; 09/15/17 \n",
    ",Justin Blake ;,; $22.46   ;,;white&yellow ;,;   \n",
    "09/15/17,   Beverly Baldwin ;,;   $6.60;,;   \n",
    "white&yellow&black ;,;09/15/17   ,   Dale Brady   \n",
    ";,;   $6.27 ;,; yellow   ;,;09/15/17 ,Guadalupe Potter ;,;$21.12   ;,; yellow;,; 09/15/17   , \n",
    "Desiree Butler ;,;$2.10   ;,;white;,; 09/15/17  \n",
    ",Sonja Barnett ;,; $14.22 ;,;white&black;,;   \n",
    "09/15/17, Angelica Garza;,;$11.60;,;white&black   \n",
    ";,;   09/15/17   ,   Jamie Welch   ;,; $25.27   ;,; \n",
    "white&black&red ;,;09/15/17   ,   Rex Hudson   \n",
    ";,;$8.26;,;   purple;,; 09/15/17 ,   Nadine Gibbs \n",
    ";,;   $30.80 ;,;   purple&yellow   ;,; 09/15/17   , \n",
    "Hannah Pratt;,;   $22.61   ;,;   purple&yellow   \n",
    ";,;09/15/17,Gayle Richards;,;$22.19 ;,; \n",
    "green&purple&yellow ;,;09/15/17   ,Stanley Holland \n",
    ";,; $7.47   ;,; red ;,; 09/15/17 , Anna Dean;,;$5.49 ;,; yellow&red ;,;   09/15/17   ,\n",
    "Terrance Saunders ;,;   $23.70  ;,;green&yellow&red \n",
    ";,; 09/15/17 ,   Brandi Zimmerman ;,; $26.66 ;,; \n",
    "red   ;,;09/15/17 ,Guadalupe Freeman ;,; $25.95;,; \n",
    "green&red ;,;   09/15/17   ,Irving Patterson \n",
    ";,;$19.55 ;,; green&white&red ;,;   09/15/17 ,Karl Ross;,;   $15.68;,;   white ;,;   09/15/17 , Brandy Cortez ;,;$23.57;,;   white&red   ;,;09/15/17, \n",
    "Mamie Riley   ;,;$29.32;,; purple;,;09/15/17 ,Mike Thornton   ;,; $26.44 ;,;   purple   ;,; 09/15/17, \n",
    "Jamie Vaughn   ;,; $17.24;,;green ;,; 09/15/17   , \n",
    "Noah Day ;,;   $8.49   ;,;green   ;,;09/15/17   \n",
    ",Josephine Keller ;,;$13.10 ;,;green;,;   09/15/17 ,   Tracey Wolfe;,;$20.39 ;,; red   ;,; 09/15/17 ,\n",
    "Ignacio Parks;,;$14.70   ;,; white&red ;,;09/15/17 \n",
    ", Beatrice Newman ;,;$22.45   ;,;white&purple&red \n",
    ";,;   09/15/17, Andre Norris   ;,;   $28.46   ;,;   \n",
    "red;,;   09/15/17 ,   Albert Lewis ;,; $23.89;,;   \n",
    "black&red;,; 09/15/17,   Javier Bailey   ;,;   \n",
    "$24.49   ;,; black&red ;,; 09/15/17   , Everett Lyons ;,;$1.81;,;   black&red ;,; 09/15/17 ,   \n",
    "Abraham Maxwell;,; $6.81   ;,;green;,;   09/15/17   \n",
    ",   Traci Craig ;,;$0.65;,; green&yellow;,; \n",
    "09/15/17 , Jeffrey Jenkins   ;,;$26.45;,; \n",
    "green&yellow&blue   ;,;   09/15/17,   Merle Wilson \n",
    ";,;   $7.69 ;,; purple;,; 09/15/17,Janis Franklin   \n",
    ";,;$8.74   ;,; purple&black   ;,;09/15/17 ,  \n",
    "Leonard Guerrero ;,;   $1.86   ;,;yellow  \n",
    ";,;09/15/17,Lana Sanchez;,;$14.75   ;,; yellow;,;   \n",
    "09/15/17   ,Donna Ball ;,; $28.10  ;,; \n",
    "yellow&blue;,;   09/15/17   , Terrell Barber   ;,; \n",
    "$9.91   ;,; green ;,;09/15/17   ,Jody Flores;,; \n",
    "$16.34 ;,; green ;,;   09/15/17,   Daryl Herrera \n",
    ";,;$27.57;,; white;,;   09/15/17   , Miguel Mcguire;,;$5.25;,; white&blue   ;,;   09/15/17 ,   \n",
    "Rogelio Gonzalez;,; $9.51;,;   white&black&blue   \n",
    ";,;   09/15/17   ,   Lora Hammond ;,;$20.56 ;,; \n",
    "green;,;   09/15/17,Owen Ward;,; $21.64   ;,;   \n",
    "green&yellow;,;09/15/17,Malcolm Morales ;,;   \n",
    "$24.99   ;,;   green&yellow&black;,; 09/15/17 ,   \n",
    "Eric Mcdaniel ;,;$29.70;,; green ;,; 09/15/17 \n",
    ",Madeline Estrada;,;   $15.52;,;green;,;   09/15/17 \n",
    ", Leticia Manning;,;$15.70 ;,; green&purple;,; \n",
    "09/15/17 ,   Mario Wallace ;,; $12.36 ;,;green ;,; \n",
    "09/15/17,Lewis Glover;,;   $13.66   ;,;   \n",
    "green&white;,;09/15/17,   Gail Phelps   ;,;$30.52   \n",
    ";,; green&white&blue   ;,; 09/15/17 , Myrtle Morris \n",
    ";,;   $22.66   ;,; green&white&blue;,;09/15/17\"\"\"\n",
    "\n",
    "#------------------------------------------------\n",
    "# Start coding below!\n",
    "daily_sales_replaced = daily_sales.replace(\";,;\", \"+\")\n",
    "daily_transactions = daily_sales_replaced.split(\",\")\n",
    "#print(daily_transactions)\n",
    "daily_transactions_split = []\n",
    "for transaction in daily_transactions:\n",
    "  daily_transactions_split.append(transaction.split(\"+\"))\n",
    "#print(daily_transactions_split)\n",
    "\n",
    "transactions_clean = []\n",
    "for transac in daily_transactions_split:\n",
    "  transaction_clean = []\n",
    "  for tran in transac:\n",
    "    transaction_clean.append(tran.replace(\"\\n\", \"\").strip(\" \"))\n",
    "  transactions_clean.append(transaction_clean)\n",
    "#print(transactions_clean)\n",
    "  \n",
    "customers = []\n",
    "sales = []\n",
    "thread_sold = []\n",
    "for tran_clean in transactions_clean:\n",
    "  customers.append(tran_clean[0])\n",
    "  sales.append(tran_clean[1])\n",
    "  thread_sold.append(tran_clean[2])\n",
    "#print(customers, sales, thread_sold)\n",
    "  \n",
    "total_sales = 0\n",
    "for sale in sales:\n",
    "  sale = float(sale.strip(\"$\"))\n",
    "  total_sales += sale\n",
    "#print(total_sales)\n",
    "#print(thread_sold)\n",
    "thread_sold_split = []\n",
    "for item in thread_sold:\n",
    "  #print(item)\n",
    "  for color in item.split(\"&\"):\n",
    "    thread_sold_split.append(color)\n",
    "#print(thread_sold_split)\n",
    "\n",
    "def color_count(color):\n",
    "  count = 0\n",
    "  for items in thread_sold_split:\n",
    "    if color == items:\n",
    "      count += 1\n",
    "  return(count)\n",
    "\n",
    "print(color_count(\"white\"))\n",
    "colors =  ['red','yellow','green','white','black','blue','purple']\n",
    "for color in colors:\n",
    "  print(\"{a} threads of {b} were sold today\".format(a = color_count(color), b = color))"
   ]
  },
  {
   "cell_type": "code",
   "execution_count": 22,
   "id": "82977ab4-3bb0-4dc2-9f5d-f30f0daa5451",
   "metadata": {},
   "outputs": [],
   "source": [
    "drinks = [\"espresso\", \"chai\", \"decaf\", \"drip\"]\n",
    "caffeine = [64, 40, 0, 120]\n",
    "zipped_drinks = zip(drinks, caffeine)\n",
    "drinks_to_caffeine = {key: value for key, value in zipped_drinks}"
   ]
  },
  {
   "cell_type": "code",
   "execution_count": 23,
   "id": "e43ebf97-4a0c-4857-975e-8bda92f92c22",
   "metadata": {},
   "outputs": [
    {
     "name": "stdout",
     "output_type": "stream",
     "text": [
      "{'The Best Songs': {'Like a Rolling Stone': 78, 'Satisfaction': 29, 'Imagine': 44, \"What's Going On\": 21, 'Respect': 94, 'Good Vibrations': 5, 'Purple Haze': 1}, 'Sunday Feelings': {}}\n"
     ]
    }
   ],
   "source": [
    "songs = [\"Like a Rolling Stone\", \"Satisfaction\", \"Imagine\", \"What's Going On\", \"Respect\", \"Good Vibrations\"]\n",
    "playcounts = [78, 29, 44, 21, 89, 5]\n",
    "\n",
    "plays = {song:playcount for [song, playcount] in zip(songs, playcounts)}\n",
    "\n",
    "plays[\"Respect\"] = 94\n",
    "plays[\"Purple Haze\"] = 1\n",
    "\n",
    "library = {\"The Best Songs\": plays, \"Sunday Feelings\": {}}\n",
    "\n",
    "print(library)"
   ]
  },
  {
   "cell_type": "code",
   "execution_count": 24,
   "id": "65805ab9-42f2-4482-a39f-a623789ac8a1",
   "metadata": {},
   "outputs": [
    {
     "name": "stdout",
     "output_type": "stream",
     "text": [
      "Not a Zodiac element\n"
     ]
    }
   ],
   "source": [
    "zodiac_elements = {\"water\": [\"Cancer\", \"Scorpio\", \"Pisces\"], \"fire\": [\"Aries\", \"Leo\", \"Sagittarius\"], \"earth\": [\"Taurus\", \"Virgo\", \"Capricorn\"], \"air\":[\"Gemini\", \"Libra\", \"Aquarius\"]}\n",
    "\n",
    "zodiac_elements[\"energy\"] = \"Not a Zodiac element\"\n",
    "\n",
    "if \"energy\" in zodiac_elements:\n",
    "  print(zodiac_elements[\"energy\"])\n"
   ]
  },
  {
   "cell_type": "code",
   "execution_count": 26,
   "id": "f32cdf4f-7970-4bd5-bb52-e436296676b9",
   "metadata": {},
   "outputs": [
    {
     "name": "stdout",
     "output_type": "stream",
     "text": [
      "0\n"
     ]
    }
   ],
   "source": [
    "caffeine_level = {\"espresso\": 64, \"chai\": 40, \"decaf\": 0, \"drip\": 120}\n",
    "\n",
    "caffeine_level['matcha'] = 0\n",
    "\n",
    "try:\n",
    "  print(caffeine_level['matcha'])\n",
    "except KeyError:\n",
    "  print(\"Unknown Caffeine Level\")\n",
    " "
   ]
  },
  {
   "cell_type": "code",
   "execution_count": null,
   "id": "7f36bcec-432d-4242-8498-67bb14bcee9c",
   "metadata": {},
   "outputs": [],
   "source": []
  }
 ],
 "metadata": {
  "kernelspec": {
   "display_name": "Python 3 (ipykernel)",
   "language": "python",
   "name": "python3"
  },
  "language_info": {
   "codemirror_mode": {
    "name": "ipython",
    "version": 3
   },
   "file_extension": ".py",
   "mimetype": "text/x-python",
   "name": "python",
   "nbconvert_exporter": "python",
   "pygments_lexer": "ipython3",
   "version": "3.9.12"
  }
 },
 "nbformat": 4,
 "nbformat_minor": 5
}
