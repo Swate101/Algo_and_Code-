{
 "cells": [
  {
   "cell_type": "code",
   "execution_count": 1,
   "id": "b8dfc2f9-3c90-40ec-bdb3-2358f069a4cc",
   "metadata": {},
   "outputs": [
    {
     "name": "stdout",
     "output_type": "stream",
     "text": [
      "['apple', 'banana', 'mango']\n",
      "['DICK']\n",
      "['apple', 'banana', 'mango']\n",
      "[0, 2, 4, 6, 8, 10]\n"
     ]
    }
   ],
   "source": [
    "fruits = [\"apple\", \"banana\", \"cherry\", \"kiwi\", \"mango\"]\n",
    "newlist = []\n",
    "\n",
    "for x in fruits:\n",
    "  if \"a\" in x:\n",
    "    newlist.append(x)\n",
    "\n",
    "print(newlist)\n",
    "buttlist = []\n",
    "\n",
    "fruits = [\"DICK\", \"HOLE\", \"FUCK\", \"kiwi\", \"mango\"]\n",
    "newlist = []\n",
    "\n",
    "\n",
    "for c in fruits: \n",
    "  if \"D\" in c:\n",
    "    buttlist.append(c)\n",
    "    \n",
    "print(buttlist)\n",
    "\n",
    "fruits = [\"apple\", \"banana\", \"cherry\", \"kiwi\", \"mango\"]\n",
    "newlist = [x for x in fruits if \"a\" in x]\n",
    "\n",
    "print(newlist)\n",
    "\n",
    "\n",
    "list = [i for i in range(11) if i % 2 == 0]\n",
    "print(list)\n"
   ]
  },
  {
   "cell_type": "code",
   "execution_count": 3,
   "id": "5319792f-6278-4552-b5ba-5ceba6e53217",
   "metadata": {},
   "outputs": [
    {
     "name": "stdout",
     "output_type": "stream",
     "text": [
      "[*********************100%***********************]  7 of 7 completed\n"
     ]
    }
   ],
   "source": [
    "import yfinance as yf\n",
    "\n",
    "ticker = [\"AAPL\", \"BA\", \"KO\", \"IBM\", \"DIS\", \"SPY\", \"TSLA\" ]\n",
    "stocks = yf.download(ticker, start = \"2019-01-01\", end = \"2022-08-10\")"
   ]
  },
  {
   "cell_type": "code",
   "execution_count": 13,
   "id": "e762f88a-6054-4e54-93f3-cf8befaa4ddd",
   "metadata": {},
   "outputs": [
    {
     "name": "stdout",
     "output_type": "stream",
     "text": [
      "['G', 'e', 'e', 'k', 's', ' ', '4', ' ', 'G', 'e', 'e', 'k', 's', '!']\n",
      "['G', 'e', 'e', 'k', 's', ' ', '4', ' ', 'G', 'e', 'e', 'k', 's', '!']\n"
     ]
    }
   ],
   "source": [
    "# Empty list\n",
    "List = []\n",
    " \n",
    "# Traditional approach of iterating\n",
    "for character in 'Geeks 4 Geeks!':\n",
    "    List.append(character)\n",
    " \n",
    "# Display list\n",
    "print(List)\n",
    "\n",
    "\n",
    "# LIST COMPRIHENSION \n",
    "\n",
    "# Using list comprehension to iterate through loop\n",
    "List = [character for character in 'Geeks 4 Geeks!']\n",
    " \n",
    "# Displaying list\n",
    "print(List)\n"
   ]
  },
  {
   "cell_type": "code",
   "execution_count": 15,
   "id": "4b47422e-2404-494c-968b-a09a672066cc",
   "metadata": {},
   "outputs": [
    {
     "name": "stdout",
     "output_type": "stream",
     "text": [
      "['H', 'i', ' ', 'h', 'o', 'w', ' ', 'a', 'r', 'e', ' ', 'y', 'o', 'u', '!']\n"
     ]
    }
   ],
   "source": [
    "List = [ tango for tango in 'Hi how are you!']\n",
    "print(List)"
   ]
  },
  {
   "cell_type": "code",
   "execution_count": 16,
   "id": "324aa284-eb2f-4dab-8dc8-2de604a8ba2a",
   "metadata": {},
   "outputs": [
    {
     "name": "stdout",
     "output_type": "stream",
     "text": [
      "Time taken for_loop: 0.26\n",
      "Time taken for list_comprehension: 0.23\n"
     ]
    }
   ],
   "source": [
    "# Import required module\n",
    "import time\n",
    "\n",
    "\n",
    "# define function to implement for loop\n",
    "def for_loop(n):\n",
    "\tresult = []\n",
    "\tfor i in range(n):\n",
    "\t\tresult.append(i**2)\n",
    "\treturn result\n",
    "\n",
    "\n",
    "# define function to implement list comprehension\n",
    "def list_comprehension(n):\n",
    "\treturn [i**2 for i in range(n)]\n",
    "\n",
    "\n",
    "# Driver Code\n",
    "\n",
    "# Calculate time takens by for_loop()\n",
    "begin = time.time()\n",
    "for_loop(10**6)\n",
    "end = time.time()\n",
    "\n",
    "# Display time taken by for_loop()\n",
    "print('Time taken for_loop:', round(end-begin, 2))\n",
    "\n",
    "# Calculate time takens by list_comprehension()\n",
    "begin = time.time()\n",
    "list_comprehension(10**6)\n",
    "end = time.time()\n",
    "\n",
    "# Display time taken by for_loop()\n",
    "print('Time taken for list_comprehension:', round(end-begin, 2))\n"
   ]
  },
  {
   "cell_type": "code",
   "execution_count": null,
   "id": "8ea3c972-45a7-471c-a25a-1f9958d1ea99",
   "metadata": {},
   "outputs": [],
   "source": []
  }
 ],
 "metadata": {
  "kernelspec": {
   "display_name": "Python 3 (ipykernel)",
   "language": "python",
   "name": "python3"
  },
  "language_info": {
   "codemirror_mode": {
    "name": "ipython",
    "version": 3
   },
   "file_extension": ".py",
   "mimetype": "text/x-python",
   "name": "python",
   "nbconvert_exporter": "python",
   "pygments_lexer": "ipython3",
   "version": "3.9.12"
  }
 },
 "nbformat": 4,
 "nbformat_minor": 5
}
