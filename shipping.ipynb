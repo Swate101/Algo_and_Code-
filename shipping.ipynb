{
 "cells": [
  {
   "cell_type": "code",
   "execution_count": 1,
   "id": "829938b5-bc53-4c1f-b669-13a30884a089",
   "metadata": {},
   "outputs": [
    {
     "name": "stdout",
     "output_type": "stream",
     "text": [
      "Ground Shipping $ 400.0\n",
      "Ground Shipping Premimium $ 125.0\n",
      "Drone Shipping: $ 1140.0\n"
     ]
    }
   ],
   "source": [
    "# Sal's Shipping\n",
    "# Sonny Li\n",
    "\n",
    "weight = 80\n",
    "\n",
    "# Ground Shipping 🚚\n",
    "\n",
    "if weight <= 2:\n",
    "  cost_ground = weight * 1.5 + 20\n",
    "elif weight <= 6:\n",
    "  cost_ground = weight * 3.00 + 20\n",
    "elif weight <= 10:\n",
    "  cost_ground = weight * 4.00 + 20\n",
    "else:\n",
    "  cost_ground = weight * 4.75 + 20\n",
    "\n",
    "print(\"Ground Shipping $\", cost_ground)\n",
    "      \n",
    "# Ground Shipping Premimum 🚚💨\n",
    "\n",
    "cost_ground_premium = 125.00\n",
    "\n",
    "print(\"Ground Shipping Premimium $\", cost_ground_premium)\n",
    "\n",
    "# Drone Shipping 🛸\n",
    "\n",
    "if weight <= 2:\n",
    "  cost_drone = weight * 4.5\n",
    "elif weight <= 6:\n",
    "  cost_drone = weight * 9.00\n",
    "elif weight <= 10:\n",
    "  cost_drone = weight * 12.00\n",
    "else:\n",
    "  cost_drone = weight * 14.25\n",
    "\n",
    "print(\"Drone Shipping: $\", cost_drone)"
   ]
  },
  {
   "cell_type": "code",
   "execution_count": 2,
   "id": "44527241-2bae-4093-b1ea-a43bb5eb4283",
   "metadata": {},
   "outputs": [
    {
     "data": {
      "text/plain": [
       "100"
      ]
     },
     "execution_count": 2,
     "metadata": {},
     "output_type": "execute_result"
    }
   ],
   "source": [
    "abs(-100)"
   ]
  },
  {
   "cell_type": "code",
   "execution_count": 4,
   "id": "afb0c858-246f-48df-bbf2-128b96e25a92",
   "metadata": {},
   "outputs": [
    {
     "data": {
      "text/plain": [
       "10"
      ]
     },
     "execution_count": 4,
     "metadata": {},
     "output_type": "execute_result"
    }
   ],
   "source": [
    "True *  10"
   ]
  },
  {
   "cell_type": "code",
   "execution_count": 5,
   "id": "16321559-955c-4f86-b3ed-5a2f8f2fb621",
   "metadata": {},
   "outputs": [
    {
     "data": {
      "text/plain": [
       "True"
      ]
     },
     "execution_count": 5,
     "metadata": {},
     "output_type": "execute_result"
    }
   ],
   "source": [
    "5 == 5 or 5 < 3"
   ]
  },
  {
   "cell_type": "code",
   "execution_count": null,
   "id": "2528c985-0f36-4dda-b001-e9ad13c8af7c",
   "metadata": {},
   "outputs": [],
   "source": []
  }
 ],
 "metadata": {
  "kernelspec": {
   "display_name": "Python 3 (ipykernel)",
   "language": "python",
   "name": "python3"
  },
  "language_info": {
   "codemirror_mode": {
    "name": "ipython",
    "version": 3
   },
   "file_extension": ".py",
   "mimetype": "text/x-python",
   "name": "python",
   "nbconvert_exporter": "python",
   "pygments_lexer": "ipython3",
   "version": "3.7.13"
  }
 },
 "nbformat": 4,
 "nbformat_minor": 5
}
