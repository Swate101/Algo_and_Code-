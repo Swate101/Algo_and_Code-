{
 "cells": [
  {
   "cell_type": "code",
   "execution_count": null,
   "id": "b14a9ce7-4bc4-4697-95bf-c42c25745842",
   "metadata": {},
   "outputs": [],
   "source": [
    "def is_leap(year):\n",
    "    leap = False\n",
    "    \n",
    "    if (year % 4 == 0) and (year % 100 != 0): \n",
    "      # Note that in your code the condition will be true if it is not..\n",
    "      leap = True\n",
    "    elif (year % 100 == 0) and (year % 400 != 0):\n",
    "      leap = False\n",
    "    elif (year % 400 == 0):\n",
    "      # For some reason here you had False twice\n",
    "      leap = True\n",
    "    else:\n",
    "      leap = False\n",
    "\n",
    "    return leap\n",
    "    \n",
    "    \n",
    "year = int(input())"
   ]
  },
  {
   "cell_type": "markdown",
   "id": "5ac92369-4f79-4d48-8914-e9ebf37e064f",
   "metadata": {},
   "source": [
    "### An extra day is added to the calendar almost every four years as February 29, and the day is called a leap day. It corrects the calendar for the fact that our planet takes approximately 365.25 days to orbit the sun. A leap year contains a leap day.\n",
    "\n",
    "In the Gregorian calendar, three conditions are used to identify leap years:\n",
    "\n",
    "- The year can be evenly divided by 4, is a leap year, <strong>unless</strong> = /// leap % 4 != 0 /// \n",
    "- The year can be evenly divided by 100, it is NOT a leap year, unless  = year % 100 == 0 or year % 400 != 0\n",
    "- The year is also evenly divisible by 400. Then it is a leap year  = year % 100 == 0 or year % 400 != 0\n",
    "This means that in the Gregorian calendar, the years 2000 and 2400 are leap years, while 1800, 1900, 2100, 2200, 2300 and 2500 are NOT leap years\n",
    "\n",
    "\n",
    "----"
   ]
  },
  {
   "cell_type": "code",
   "execution_count": null,
   "id": "6164bdbf-a3b6-4194-979b-63f5499ce6f1",
   "metadata": {},
   "outputs": [],
   "source": []
  }
 ],
 "metadata": {
  "kernelspec": {
   "display_name": "Python 3 (ipykernel)",
   "language": "python",
   "name": "python3"
  },
  "language_info": {
   "codemirror_mode": {
    "name": "ipython",
    "version": 3
   },
   "file_extension": ".py",
   "mimetype": "text/x-python",
   "name": "python",
   "nbconvert_exporter": "python",
   "pygments_lexer": "ipython3",
   "version": "3.7.13"
  }
 },
 "nbformat": 4,
 "nbformat_minor": 5
}
