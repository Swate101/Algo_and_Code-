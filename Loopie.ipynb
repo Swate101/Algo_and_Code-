{
 "cells": [
  {
   "cell_type": "code",
   "execution_count": 1,
   "id": "03ba081e-735d-462a-85ce-1c14fda2c2bb",
   "metadata": {},
   "outputs": [
    {
     "name": "stdout",
     "output_type": "stream",
     "text": [
      "10\n",
      "9\n",
      "8\n",
      "7\n",
      "6\n",
      "5\n",
      "4\n",
      "3\n",
      "2\n",
      "1\n",
      "0\n",
      "We have liftoff!\n"
     ]
    }
   ],
   "source": [
    "countdown = 10\n",
    "while countdown >= 0: \n",
    "  print(countdown)\n",
    "  countdown -= 1\n",
    "print(\"We have liftoff!\")"
   ]
  },
  {
   "cell_type": "code",
   "execution_count": 6,
   "id": "314e6ad6-2770-4f08-832a-7b1cd9e9928f",
   "metadata": {},
   "outputs": [
    {
     "name": "stdout",
     "output_type": "stream",
     "text": [
      "5\n",
      "I am learning about variables\n",
      "I am learning about control flow\n",
      "I am learning about loops\n",
      "I am learning about modules\n",
      "I am learning about classes\n"
     ]
    }
   ],
   "source": [
    "python_topics = [\"variables\", \"control flow\", \"loops\", \"modules\", \"classes\"]\n",
    "\n",
    "length = len(python_topics)\n",
    "print(length)\n",
    "index = 0\n",
    "\n",
    "while index < length:\n",
    "  print(\"I am learning about \" + python_topics[index])\n",
    "  index += 1"
   ]
  },
  {
   "cell_type": "markdown",
   "id": "c10fc75a-3e89-47a6-a948-3a6b3a2ce33d",
   "metadata": {},
   "source": [
    "## Python List Comprehension\n",
    "## Python list comprehensions provide a concise way for creating lists. It consists of brackets containing an expression followed by a for clause, then zero or more for or if clauses: [EXPRESSION for ITEM in LIST <if CONDITIONAL>].\n",
    "\n",
    "## The expressions can be anything - any kind of object can go into a list.\n",
    "\n",
    "## A list comprehension always returns a list."
   ]
  },
  {
   "cell_type": "code",
   "execution_count": 1,
   "id": "20f57b82-964e-4de0-b94a-ef801058a858",
   "metadata": {},
   "outputs": [
    {
     "name": "stdout",
     "output_type": "stream",
     "text": [
      "[0, 4, 16, 36, 64]\n"
     ]
    }
   ],
   "source": [
    "result = [x**2 for x in range(10) if x % 2 == 0]\n",
    "\n",
    "print(result)"
   ]
  },
  {
   "cell_type": "code",
   "execution_count": 2,
   "id": "a18201e7-84fe-486e-a69c-8f50f3667e19",
   "metadata": {},
   "outputs": [
    {
     "name": "stdout",
     "output_type": "stream",
     "text": [
      "[100, 98, 72, 86, 84, 99, 58, 67]\n"
     ]
    }
   ],
   "source": [
    "grades = [90, 88, 62, 76, 74, 89, 48, 57]\n",
    "\n",
    "# scaled_grades = [ 10 + grades in grades ] \n",
    "\n",
    "#result = [x**2 for x in range(10) if x % 2 == 0]\n",
    "\n",
    "#new_list = [<expression> for <element> in <collection>]\n",
    "\n",
    "\n",
    "scaled_grades = [grade + 10 for grade in grades]\n",
    "\n",
    "print(scaled_grades)"
   ]
  },
  {
   "cell_type": "markdown",
   "id": "2e4c5d60-c6eb-47bf-8edc-c54be82af030",
   "metadata": {},
   "source": [
    "___ \n",
    "\n",
    "##  List Comprehensions: Conditionals\n",
    "___ "
   ]
  },
  {
   "cell_type": "code",
   "execution_count": null,
   "id": "d6785fd3-bf66-4d41-bfcf-4553b2d204f9",
   "metadata": {},
   "outputs": [],
   "source": [
    "# new_list = [elem for elem in old_list if elem != 0] Conditions elsif if ..... "
   ]
  },
  {
   "cell_type": "code",
   "execution_count": 5,
   "id": "27f85ffb-7911-43c9-9e84-a0f9b29d839d",
   "metadata": {},
   "outputs": [
    {
     "name": "stdout",
     "output_type": "stream",
     "text": [
      "[164, 170, 163, 163]\n"
     ]
    }
   ],
   "source": [
    "heights = [161, 164, 156, 144, 158, 170, 163, 163, 157]\n",
    "# can_ride_coaster = [ heights if 162 > heights in heights ]\n",
    "can_ride_coaster = [height for height in heights if height > 161]\n",
    "print(can_ride_coaster)\n"
   ]
  },
  {
   "cell_type": "markdown",
   "id": "539fef17-bc0e-45ca-9f04-8c2d928cfc41",
   "metadata": {},
   "source": [
    "In our negative_doubled example, our list comprehension:\n",
    "\n",
    "Takes an element in the list numbers.\n",
    "Assigns that element to a variable called num.\n",
    "Checks if the condition num < 0 is met by the element stored in num. If so, it goes to step 4, otherwise it skips it and goes to the next element in the list.\n",
    "Applies the expression num * 2 on the element stored in num and adds the result to a new list called negative_doubled\n",
    "Repeats steps 1-3 (and sometimes 4) for each remaining element in the numbers list.\n",
    "We can also use If-Else conditions directly in our comprehensions. For example, let’s say we wanted to double every negative number but triple all positive numbers. Here is what our code might look like:"
   ]
  },
  {
   "cell_type": "code",
   "execution_count": 4,
   "id": "4b6f672d-5e7b-4697-a773-d6208a07d07b",
   "metadata": {},
   "outputs": [
    {
     "name": "stdout",
     "output_type": "stream",
     "text": [
      "[6, -2, 237, 99, -90]\n"
     ]
    }
   ],
   "source": [
    "numbers = [2, -1, 79, 33, -45]   # conditional statments in list comprehensions is the key to haveing fast and accurite code \n",
    "doubled = [num * 2 if num < 0 else num * 3 for num in numbers ]\n",
    "print(doubled)"
   ]
  },
  {
   "cell_type": "code",
   "execution_count": 3,
   "id": "1ec0d0f7-8a03-455d-8804-76bacaf9d014",
   "metadata": {},
   "outputs": [
    {
     "name": "stdout",
     "output_type": "stream",
     "text": [
      "[-2, -90]\n"
     ]
    }
   ],
   "source": [
    "numbers = [2, -1, 79, 33, -45]\n",
    "negative_doubled = [num * 2 for num in numbers if num < 0]\n",
    "print(negative_doubled)"
   ]
  },
  {
   "cell_type": "markdown",
   "id": "bd67e224-3f70-4b62-bed6-5b8663001efc",
   "metadata": {},
   "source": [
    "## for sublist in grouped_topics:\n",
    "  ## for sublist_element in sublist: \n",
    "    \n",
    "   ## print(sublist_element)  "
   ]
  },
  {
   "cell_type": "code",
   "execution_count": 6,
   "id": "88ed3255-63d1-4062-947e-c0de3621d973",
   "metadata": {},
   "outputs": [
    {
     "name": "stdout",
     "output_type": "stream",
     "text": [
      "0\n",
      "1\n",
      "2\n",
      "3\n",
      "4\n",
      "5\n",
      "6\n",
      "7\n",
      "8\n",
      "9\n",
      "[0, 1, 4, 9, 16, 25, 36, 49, 64, 81]\n",
      "[0, 1, 8, 27, 64, 125, 216, 343, 512, 729]\n"
     ]
    }
   ],
   "source": [
    "# # Your code below:\n",
    "\n",
    "# single_digits = range(10)\n",
    "\n",
    "# squares = []\n",
    "# # [single_digits in single_digits]\n",
    "# for single_digits in single_digits:\n",
    "#   #squares.append(item**2)\n",
    "#   print(single_digits)\n",
    "#   squares.append(single_digits**2)\n",
    "# print(squares)\n",
    "# # cubes  = [single_digits ** 3 for single_digits in single_digits]\n",
    "# cubes = [single_digit**3 for single_digit in single_digits]\n",
    "# print(cubes)\n",
    "\n",
    "single_digits = range(10)\n",
    "squares = []\n",
    "\n",
    "for i in single_digits:\n",
    "  print(i)\n",
    "  squares.append(i**2)\n",
    "  \n",
    "print(squares)\n",
    "  \n",
    "cubes = [i**3 for i in single_digits]\n",
    "print(cubes)"
   ]
  },
  {
   "cell_type": "code",
   "execution_count": 7,
   "id": "9c76497c-a519-4f1f-85d8-4f6e386839ab",
   "metadata": {},
   "outputs": [
    {
     "ename": "TypeError",
     "evalue": "unsupported operand type(s) for +=: 'int' and 'list'",
     "output_type": "error",
     "traceback": [
      "\u001b[0;31m---------------------------------------------------------------------------\u001b[0m",
      "\u001b[0;31mTypeError\u001b[0m                                 Traceback (most recent call last)",
      "Input \u001b[0;32mIn [7]\u001b[0m, in \u001b[0;36m<cell line: 10>\u001b[0;34m()\u001b[0m\n\u001b[1;32m      8\u001b[0m total_price \u001b[38;5;241m=\u001b[39m \u001b[38;5;241m0\u001b[39m \n\u001b[1;32m     10\u001b[0m \u001b[38;5;28;01mfor\u001b[39;00m price \u001b[38;5;129;01min\u001b[39;00m prices: \n\u001b[1;32m     11\u001b[0m   \u001b[38;5;66;03m# total_price = total_price + prices \u001b[39;00m\n\u001b[0;32m---> 12\u001b[0m   total_price \u001b[38;5;241m+\u001b[39m\u001b[38;5;241m=\u001b[39m prices\n\u001b[1;32m     13\u001b[0m   \u001b[38;5;66;03m# print(total_price)\u001b[39;00m\n\u001b[1;32m     14\u001b[0m \n\u001b[1;32m     15\u001b[0m   \u001b[38;5;66;03m# print(len(prices))\u001b[39;00m\n\u001b[1;32m     16\u001b[0m   average_price \u001b[38;5;241m=\u001b[39m total_price \u001b[38;5;241m/\u001b[39m \u001b[38;5;28mlen\u001b[39m(prices)\n",
      "\u001b[0;31mTypeError\u001b[0m: unsupported operand type(s) for +=: 'int' and 'list'"
     ]
    }
   ],
   "source": [
    "hairstyles = [\"bouffant\", \"pixie\", \"dreadlocks\", \"crew\", \"bowl\", \"bob\", \"mohawk\", \"flattop\"]\n",
    "\n",
    "prices = [30, 25, 40, 20, 20, 35, 50, 35]\n",
    "\n",
    "last_week = [2, 3, 5, 8, 4, 4, 6, 2]\n",
    "\n",
    "\n",
    "total_price = 0 \n",
    "\n",
    "for price in prices: \n",
    "  # total_price = total_price + prices \n",
    "  total_price += prices\n",
    "  # print(total_price)\n",
    "\n",
    "  # print(len(prices))\n",
    "  average_price = total_price / len(prices)\n",
    "  \n",
    "  #average_price =  total_price / 8 \n",
    "\n",
    "\n",
    "# # hairstyles = [\"bouffant\", \"pixie\", \"dreadlocks\", \"crew\", \"bowl\", \"bob\", \"mohawk\", \"flattop\"]\n",
    "\n",
    "# prices = [30, 25, 40, 20, 20, 35, 50, 35]\n",
    "\n",
    "# last_week = [2, 3, 5, 8, 4, 4, 6, 2]\n",
    "# total_price = 0\n",
    "# for price in prices:\n",
    "#   total_price += price\n",
    "# average_price = total_price / len(prices)\n",
    "# print(\"Average Haircut Price : \" + str(average_price))\n",
    "# new_prices = [price -5 for price in  prices]\n",
    "# print(new_prices)\n",
    "# total_revenue = 0\n",
    "# for i in range(len(hairstyles)):\n",
    "#   total_revenue = prices[i] + last_week[i]\n",
    "# print(\"Total Revenue: \" + str(total_revenue))\n",
    "# average_daily_revenue = total_revenue / 7\n",
    "# print(average_daily_revenue)\n",
    "# cuts_under_30 = [new_prices[i] for i in range(len(new_prices)-1) if new_prices[i] < 30]\n",
    "# print(cuts_under_30)\n",
    "\n",
    "\n",
    "\n",
    "\n",
    "\n"
   ]
  },
  {
   "cell_type": "code",
   "execution_count": null,
   "id": "36494ec5-0145-4deb-9bac-35857fadc096",
   "metadata": {},
   "outputs": [],
   "source": []
  }
 ],
 "metadata": {
  "kernelspec": {
   "display_name": "Python 3 (ipykernel)",
   "language": "python",
   "name": "python3"
  },
  "language_info": {
   "codemirror_mode": {
    "name": "ipython",
    "version": 3
   },
   "file_extension": ".py",
   "mimetype": "text/x-python",
   "name": "python",
   "nbconvert_exporter": "python",
   "pygments_lexer": "ipython3",
   "version": "3.9.12"
  }
 },
 "nbformat": 4,
 "nbformat_minor": 5
}
