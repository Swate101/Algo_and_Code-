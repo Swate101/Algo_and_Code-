{
 "cells": [
  {
   "cell_type": "code",
   "execution_count": 40,
   "id": "554c1a27-cea9-4750-aa68-1b3081cc219f",
   "metadata": {},
   "outputs": [
    {
     "name": "stdout",
     "output_type": "stream",
     "text": [
      "[8, 16, 24, 32, 40, 48, 56, 64, 72, 80, 88, 96, 104, 112, 120, 128, 136, 144, 152, 160, 168, 176, 184, 192, 200, 208, 216, 224, 232, 240, 248, 256, 264, 272, 280, 288, 296, 304, 312, 320, 328, 336, 344, 352, 360, 368, 376, 384, 392, 400, 408, 416, 424, 432, 440, 448, 456, 464, 472, 480, 488, 496, 504, 512, 520, 528, 536, 544, 552, 560, 568, 576, 584, 592, 600, 608, 616, 624, 632, 640, 648, 656, 664, 672, 680, 688, 696, 704, 712, 720, 728, 736, 744, 752, 760, 768, 776, 784, 792, 800, 808, 816, 824, 832, 840, 848, 856, 864, 872, 880, 888, 896, 904, 912, 920, 928, 936, 944, 952, 960, 968, 976, 984, 992, 1000]\n",
      "[6, 16, 26, 36, 46, 56, 60, 61, 62, 63, 64, 65, 66, 67, 68, 69, 76, 86, 96, 106, 116, 126, 136, 146, 156, 160, 161, 162, 163, 164, 165, 166, 167, 168, 169, 176, 186, 196, 206, 216, 226, 236, 246, 256, 260, 261, 262, 263, 264, 265, 266, 267, 268, 269, 276, 286, 296, 306, 316, 326, 336, 346, 356, 360, 361, 362, 363, 364, 365, 366, 367, 368, 369, 376, 386, 396, 406, 416, 426, 436, 446, 456, 460, 461, 462, 463, 464, 465, 466, 467, 468, 469, 476, 486, 496, 506, 516, 526, 536, 546, 556, 560, 561, 562, 563, 564, 565, 566, 567, 568, 569, 576, 586, 596, 600, 601, 602, 603, 604, 605, 606, 607, 608, 609, 610, 611, 612, 613, 614, 615, 616, 617, 618, 619, 620, 621, 622, 623, 624, 625, 626, 627, 628, 629, 630, 631, 632, 633, 634, 635, 636, 637, 638, 639, 640, 641, 642, 643, 644, 645, 646, 647, 648, 649, 650, 651, 652, 653, 654, 655, 656, 657, 658, 659, 660, 661, 662, 663, 664, 665, 666, 667, 668, 669, 670, 671, 672, 673, 674, 675, 676, 677, 678, 679, 680, 681, 682, 683, 684, 685, 686, 687, 688, 689, 690, 691, 692, 693, 694, 695, 696, 697, 698, 699, 706, 716, 726, 736, 746, 756, 760, 761, 762, 763, 764, 765, 766, 767, 768, 769, 776, 786, 796, 806, 816, 826, 836, 846, 856, 860, 861, 862, 863, 864, 865, 866, 867, 868, 869, 876, 886, 896, 906, 916, 926, 936, 946, 956, 960, 961, 962, 963, 964, 965, 966, 967, 968, 969, 976, 986, 996]\n",
      "['', 'e', 'i', 'u', '', '']\n",
      " WDAFASFASF   ASFAVCXDZVDVB   dSCZVCZVZVZDVDZSVZ \n",
      "8\n"
     ]
    }
   ],
   "source": [
    "nums = [i for i in range(1,1001)]\n",
    "string = \"\"\n",
    "#List = [ i for i in range(1,1001) % 8 == i] WHAT I WROTE \n",
    "q1_answer = [num for num in nums if num % 8 == 0] \n",
    "print(q1_answer)\n",
    "# i for i in range(1,1001)if  6  % i ]\n",
    "q2_answer = [num for num in nums if \"6\" in str(num)]\n",
    "print(q2_answer)\n",
    "# [ i for i in range ,\"Practice Problems to Drill List Comprehension in Your Head.\" i == 1 ]\n",
    "q3_answer = len([char for char in string if char == \" \"])\n",
    "\n",
    "\n",
    "string = \" aWDAFASFASF e i oASFAVCXDZVDVB u  dSCZVCZVZVZDVDZSVZ \"\n",
    "bing = \" fuck \" \n",
    "q3_answer = len([char for char in string if char == \" \"])\n",
    "# [i for i in string == \"_\" if i == \" a, e, i, o, u\"] \n",
    "q4_answer = \"\".join([char for char in string if char not in [\"a\",\"e\",\"i\",\"o\",\"u\"]])\n",
    "\n",
    "\n",
    "words = string.split(\" \")\n",
    "q5_answer = [word for word in words if len(word) < 5]\n",
    "\n",
    "\n",
    "print(q5_answer)\n",
    "\n",
    "print(q4_answer)\n",
    "\n",
    "\n",
    "\n",
    "print(q3_answer) \n",
    "\n",
    "\n",
    "\n",
    "\n",
    "q7_answer = [num for num in nums if True in [True for divisor in range(2,10) if num % divisor == 0]]\n",
    "\n",
    "\n",
    "q8_answer = {num:max([divisor for divisor in range(1,10) if num % divisor == 0]) for num in nums}"
   ]
  },
  {
   "cell_type": "code",
   "execution_count": 32,
   "id": "844fc8f0-bb55-4687-b5db-4d9a0a6c4026",
   "metadata": {},
   "outputs": [
    {
     "ename": "SyntaxError",
     "evalue": "invalid syntax (4160121378.py, line 1)",
     "output_type": "error",
     "traceback": [
      "\u001b[0;36m  Input \u001b[0;32mIn [32]\u001b[0;36m\u001b[0m\n\u001b[0;31m    Count the number of spaces in a string (use string above)\u001b[0m\n\u001b[0m          ^\u001b[0m\n\u001b[0;31mSyntaxError\u001b[0m\u001b[0;31m:\u001b[0m invalid syntax\n"
     ]
    }
   ],
   "source": [
    "\n",
    "Find all of the words in a string that are less than 5 letters (use string above)\n",
    "Use a dictionary comprehension to count the length of each word in a sentence (use string above)\n",
    "Use a nested list comprehension to find all of the numbers from 1–1000 that are divisible by any single digit besides 1 (2–9)\n",
    "For all the numbers 1–1000, use a nested list/dictionary comprehension to find the highest single digit any of the numbers is divisible by"
   ]
  },
  {
   "cell_type": "code",
   "execution_count": 33,
   "id": "9d836073-d91c-4dfa-8f15-42621fdf47e0",
   "metadata": {},
   "outputs": [
    {
     "name": "stdout",
     "output_type": "stream",
     "text": [
      "8\n"
     ]
    }
   ],
   "source": [
    "q3_answer = len([char for char in string if char == \" \"])\n",
    "\n",
    "\n",
    "print(q3_answer) "
   ]
  },
  {
   "cell_type": "code",
   "execution_count": 42,
   "id": "360d738c-d713-4828-be77-81050b2a6d3e",
   "metadata": {},
   "outputs": [
    {
     "name": "stdout",
     "output_type": "stream",
     "text": [
      "['the', 'quick', 'brown', 'fox', 'jumps', 'over', 'the', 'lazy', 'dog']\n",
      "[5, 5, 3, 5, 4, 4, 3]\n"
     ]
    },
    {
     "ename": "NameError",
     "evalue": "name '__________' is not defined",
     "output_type": "error",
     "traceback": [
      "\u001b[0;31m---------------------------------------------------------------------------\u001b[0m",
      "\u001b[0;31mNameError\u001b[0m                                 Traceback (most recent call last)",
      "Input \u001b[0;32mIn [42]\u001b[0m, in \u001b[0;36m<cell line: 9>\u001b[0;34m()\u001b[0m\n\u001b[1;32m      7\u001b[0m \u001b[38;5;28mprint\u001b[39m(words)\n\u001b[1;32m      8\u001b[0m \u001b[38;5;28mprint\u001b[39m(word_lengths)\n\u001b[0;32m----> 9\u001b[0m \u001b[43m__________\u001b[49m\n\u001b[1;32m     12\u001b[0m sentence \u001b[38;5;241m=\u001b[39m \u001b[38;5;124m\"\u001b[39m\u001b[38;5;124mthe quick brown fox jumps over the lazy dog\u001b[39m\u001b[38;5;124m\"\u001b[39m\n\u001b[1;32m     13\u001b[0m words \u001b[38;5;241m=\u001b[39m sentence\u001b[38;5;241m.\u001b[39msplit()\n",
      "\u001b[0;31mNameError\u001b[0m: name '__________' is not defined"
     ]
    }
   ],
   "source": [
    "sentence = \"the quick brown fox jumps over the lazy dog\"\n",
    "words = sentence.split()\n",
    "word_lengths = []\n",
    "for word in words:\n",
    "      if word != \"the\":\n",
    "          word_lengths.append(len(word))\n",
    "print(words)\n",
    "print(word_lengths)\n",
    "# __________\n",
    "\n",
    "\n",
    "sentence = \"the quick brown fox jumps over the lazy dog\"\n",
    "words = sentence.split()\n",
    "word_lengths = [len(word) for word in words if word != \"the\"]\n",
    "print(words)\n",
    "print(word_lengths)"
   ]
  },
  {
   "cell_type": "code",
   "execution_count": null,
   "id": "f0986b42-dc69-4a51-a530-cf1710998eaf",
   "metadata": {},
   "outputs": [],
   "source": []
  }
 ],
 "metadata": {
  "kernelspec": {
   "display_name": "Python 3 (ipykernel)",
   "language": "python",
   "name": "python3"
  },
  "language_info": {
   "codemirror_mode": {
    "name": "ipython",
    "version": 3
   },
   "file_extension": ".py",
   "mimetype": "text/x-python",
   "name": "python",
   "nbconvert_exporter": "python",
   "pygments_lexer": "ipython3",
   "version": "3.9.12"
  }
 },
 "nbformat": 4,
 "nbformat_minor": 5
}
